{
 "cells": [
  {
   "cell_type": "code",
   "execution_count": 3,
   "id": "1672110c-6fc0-409c-9390-fb0c7586bcc1",
   "metadata": {},
   "outputs": [],
   "source": [
    "from pyspark.sql import SparkSession\n",
    "\n",
    "# Создаем сессию Spark\n",
    "spark = SparkSession.builder \\\n",
    "    .appName(\"MyApp\") \\\n",
    "    .getOrCreate()"
   ]
  },
  {
   "cell_type": "code",
   "execution_count": 4,
   "id": "694b2a57-5619-4b73-933d-e83f032a17e4",
   "metadata": {
    "scrolled": true
   },
   "outputs": [
    {
     "name": "stdout",
     "output_type": "stream",
     "text": [
      "root\n",
      " |-- CallNumber: integer (nullable = true)\n",
      " |-- UnitID: string (nullable = true)\n",
      " |-- IncidentNumber: integer (nullable = true)\n",
      " |-- CallType: string (nullable = true)\n",
      " |-- CallDate: string (nullable = true)\n",
      " |-- WatchDate: string (nullable = true)\n",
      " |-- CallFinalDisposition: string (nullable = true)\n",
      " |-- AvailableDtTm: string (nullable = true)\n",
      " |-- Address: string (nullable = true)\n",
      " |-- City: string (nullable = true)\n",
      " |-- Zipcode: integer (nullable = true)\n",
      " |-- Battalion: string (nullable = true)\n",
      " |-- StationArea: string (nullable = true)\n",
      " |-- Box: string (nullable = true)\n",
      " |-- OriginalPriority: string (nullable = true)\n",
      " |-- Priority: string (nullable = true)\n",
      " |-- FinalPriority: integer (nullable = true)\n",
      " |-- ALSUnit: boolean (nullable = true)\n",
      " |-- CallTypeGroup: string (nullable = true)\n",
      " |-- NumAlarms: integer (nullable = true)\n",
      " |-- UnitType: string (nullable = true)\n",
      " |-- UnitSequenceInCallDispatch: integer (nullable = true)\n",
      " |-- FirePreventionDistrict: string (nullable = true)\n",
      " |-- SupervisorDistrict: string (nullable = true)\n",
      " |-- Neighborhood: string (nullable = true)\n",
      " |-- Location: string (nullable = true)\n",
      " |-- RowID: string (nullable = true)\n",
      " |-- Delay: float (nullable = true)\n",
      "\n"
     ]
    }
   ],
   "source": [
    "from pyspark.sql.types import *\n",
    "import pyspark.sql.functions as F\n",
    "\n",
    "# Programmatic way to define a schema \n",
    "fire_schema = StructType([StructField('CallNumber', IntegerType(), True),\n",
    "                     StructField('UnitID', StringType(), True),\n",
    "                     StructField('IncidentNumber', IntegerType(), True),\n",
    "                     StructField('CallType', StringType(), True),                  \n",
    "                     StructField('CallDate', StringType(), True),      \n",
    "                     StructField('WatchDate', StringType(), True),\n",
    "                     StructField('CallFinalDisposition', StringType(), True),\n",
    "                     StructField('AvailableDtTm', StringType(), True),\n",
    "                     StructField('Address', StringType(), True),       \n",
    "                     StructField('City', StringType(), True),       \n",
    "                     StructField('Zipcode', IntegerType(), True),       \n",
    "                     StructField('Battalion', StringType(), True),                 \n",
    "                     StructField('StationArea', StringType(), True),       \n",
    "                     StructField('Box', StringType(), True),       \n",
    "                     StructField('OriginalPriority', StringType(), True),       \n",
    "                     StructField('Priority', StringType(), True),       \n",
    "                     StructField('FinalPriority', IntegerType(), True),       \n",
    "                     StructField('ALSUnit', BooleanType(), True),       \n",
    "                     StructField('CallTypeGroup', StringType(), True),\n",
    "                     StructField('NumAlarms', IntegerType(), True),\n",
    "                     StructField('UnitType', StringType(), True),\n",
    "                     StructField('UnitSequenceInCallDispatch', IntegerType(), True),\n",
    "                     StructField('FirePreventionDistrict', StringType(), True),\n",
    "                     StructField('SupervisorDistrict', StringType(), True),\n",
    "                     StructField('Neighborhood', StringType(), True),\n",
    "                     StructField('Location', StringType(), True),\n",
    "                     StructField('RowID', StringType(), True),\n",
    "                     StructField('Delay', FloatType(), True)])\n",
    "\n",
    "# Use the DataFrameReader interface to read a CSV file\n",
    "sf_fire_file = \"sf-fire-calls.csv\"\n",
    "fire_df = spark.read.csv(sf_fire_file, header=True, schema=fire_schema)\n",
    "\n",
    "# Cache the DataFrame since we will be performing some operations on it.\n",
    "fire_df.cache()\n",
    "fire_df.count()\n",
    "\n",
    "fire_df.printSchema()"
   ]
  },
  {
   "cell_type": "code",
   "execution_count": 10,
   "id": "0898181c-51c0-472c-817c-bfc7cc46c273",
   "metadata": {
    "scrolled": true
   },
   "outputs": [
    {
     "name": "stdout",
     "output_type": "stream",
     "text": [
      "-RECORD 0------------------------------------------\n",
      " CallNumber                 | 20110016             \n",
      " UnitID                     | T13                  \n",
      " IncidentNumber             | 2003235              \n",
      " CallType                   | Structure Fire       \n",
      " CallDate                   | 01/11/2002           \n",
      " WatchDate                  | 01/10/2002           \n",
      " CallFinalDisposition       | Other                \n",
      " AvailableDtTm              | 01/11/2002 01:51:... \n",
      " Address                    | 2000 Block of CAL... \n",
      " City                       | SF                   \n",
      " Zipcode                    | 94109                \n",
      " Battalion                  | B04                  \n",
      " StationArea                | 38                   \n",
      " Box                        | 3362                 \n",
      " OriginalPriority           | 3                    \n",
      " Priority                   | 3                    \n",
      " FinalPriority              | 3                    \n",
      " ALSUnit                    | false                \n",
      " CallTypeGroup              | NULL                 \n",
      " NumAlarms                  | 1                    \n",
      " UnitType                   | TRUCK                \n",
      " UnitSequenceInCallDispatch | 2                    \n",
      " FirePreventionDistrict     | 4                    \n",
      " SupervisorDistrict         | 5                    \n",
      " Neighborhood               | Pacific Heights      \n",
      " Location                   | (37.7895840679362... \n",
      " RowID                      | 020110016-T13        \n",
      " Delay                      | 2.95                 \n",
      "-RECORD 1------------------------------------------\n",
      " CallNumber                 | 20110022             \n",
      " UnitID                     | M17                  \n",
      " IncidentNumber             | 2003241              \n",
      " CallType                   | Medical Incident     \n",
      " CallDate                   | 01/11/2002           \n",
      " WatchDate                  | 01/10/2002           \n",
      " CallFinalDisposition       | Other                \n",
      " AvailableDtTm              | 01/11/2002 03:01:... \n",
      " Address                    | 0 Block of SILVER... \n",
      " City                       | SF                   \n",
      " Zipcode                    | 94124                \n",
      " Battalion                  | B10                  \n",
      " StationArea                | 42                   \n",
      " Box                        | 6495                 \n",
      " OriginalPriority           | 3                    \n",
      " Priority                   | 3                    \n",
      " FinalPriority              | 3                    \n",
      " ALSUnit                    | true                 \n",
      " CallTypeGroup              | NULL                 \n",
      " NumAlarms                  | 1                    \n",
      " UnitType                   | MEDIC                \n",
      " UnitSequenceInCallDispatch | 1                    \n",
      " FirePreventionDistrict     | 10                   \n",
      " SupervisorDistrict         | 10                   \n",
      " Neighborhood               | Bayview Hunters P... \n",
      " Location                   | (37.7337623673897... \n",
      " RowID                      | 020110022-M17        \n",
      " Delay                      | 4.7                  \n",
      "-RECORD 2------------------------------------------\n",
      " CallNumber                 | 20110023             \n",
      " UnitID                     | M41                  \n",
      " IncidentNumber             | 2003242              \n",
      " CallType                   | Medical Incident     \n",
      " CallDate                   | 01/11/2002           \n",
      " WatchDate                  | 01/10/2002           \n",
      " CallFinalDisposition       | Other                \n",
      " AvailableDtTm              | 01/11/2002 02:39:... \n",
      " Address                    | MARKET ST/MCALLIS... \n",
      " City                       | SF                   \n",
      " Zipcode                    | 94102                \n",
      " Battalion                  | B03                  \n",
      " StationArea                | 01                   \n",
      " Box                        | 1455                 \n",
      " OriginalPriority           | 3                    \n",
      " Priority                   | 3                    \n",
      " FinalPriority              | 3                    \n",
      " ALSUnit                    | true                 \n",
      " CallTypeGroup              | NULL                 \n",
      " NumAlarms                  | 1                    \n",
      " UnitType                   | MEDIC                \n",
      " UnitSequenceInCallDispatch | 2                    \n",
      " FirePreventionDistrict     | 3                    \n",
      " SupervisorDistrict         | 6                    \n",
      " Neighborhood               | Tenderloin           \n",
      " Location                   | (37.7811772186856... \n",
      " RowID                      | 020110023-M41        \n",
      " Delay                      | 2.4333334            \n",
      "-RECORD 3------------------------------------------\n",
      " CallNumber                 | 20110032             \n",
      " UnitID                     | E11                  \n",
      " IncidentNumber             | 2003250              \n",
      " CallType                   | Vehicle Fire         \n",
      " CallDate                   | 01/11/2002           \n",
      " WatchDate                  | 01/10/2002           \n",
      " CallFinalDisposition       | Other                \n",
      " AvailableDtTm              | 01/11/2002 04:16:... \n",
      " Address                    | APPLETON AV/MISSI... \n",
      " City                       | SF                   \n",
      " Zipcode                    | 94110                \n",
      " Battalion                  | B06                  \n",
      " StationArea                | 32                   \n",
      " Box                        | 5626                 \n",
      " OriginalPriority           | 3                    \n",
      " Priority                   | 3                    \n",
      " FinalPriority              | 3                    \n",
      " ALSUnit                    | false                \n",
      " CallTypeGroup              | NULL                 \n",
      " NumAlarms                  | 1                    \n",
      " UnitType                   | ENGINE               \n",
      " UnitSequenceInCallDispatch | 1                    \n",
      " FirePreventionDistrict     | 6                    \n",
      " SupervisorDistrict         | 9                    \n",
      " Neighborhood               | Bernal Heights       \n",
      " Location                   | (37.7388432849018... \n",
      " RowID                      | 020110032-E11        \n",
      " Delay                      | 1.5                  \n",
      "-RECORD 4------------------------------------------\n",
      " CallNumber                 | 20110043             \n",
      " UnitID                     | B04                  \n",
      " IncidentNumber             | 2003259              \n",
      " CallType                   | Alarms               \n",
      " CallDate                   | 01/11/2002           \n",
      " WatchDate                  | 01/10/2002           \n",
      " CallFinalDisposition       | Other                \n",
      " AvailableDtTm              | 01/11/2002 06:01:... \n",
      " Address                    | 1400 Block of SUT... \n",
      " City                       | SF                   \n",
      " Zipcode                    | 94109                \n",
      " Battalion                  | B04                  \n",
      " StationArea                | 03                   \n",
      " Box                        | 3223                 \n",
      " OriginalPriority           | 3                    \n",
      " Priority                   | 3                    \n",
      " FinalPriority              | 3                    \n",
      " ALSUnit                    | false                \n",
      " CallTypeGroup              | NULL                 \n",
      " NumAlarms                  | 1                    \n",
      " UnitType                   | CHIEF                \n",
      " UnitSequenceInCallDispatch | 2                    \n",
      " FirePreventionDistrict     | 4                    \n",
      " SupervisorDistrict         | 2                    \n",
      " Neighborhood               | Western Addition     \n",
      " Location                   | (37.7872890372638... \n",
      " RowID                      | 020110043-B04        \n",
      " Delay                      | 3.4833333            \n",
      "only showing top 5 rows\n",
      "\n"
     ]
    }
   ],
   "source": [
    "#display(fire_df.limit(5))\n",
    "fire_df.show(5, vertical=True)"
   ]
  },
  {
   "cell_type": "code",
   "execution_count": 12,
   "id": "f139f849-5ab7-4d9d-80f2-0dd6097fde44",
   "metadata": {
    "collapsed": true,
    "jupyter": {
     "outputs_hidden": true
    },
    "scrolled": true
   },
   "outputs": [
    {
     "name": "stdout",
     "output_type": "stream",
     "text": [
      "-RECORD 0------------------------------\n",
      " IncidentNumber | 2003235              \n",
      " AvailableDtTm  | 01/11/2002 01:51:... \n",
      " CallType       | Structure Fire       \n",
      "only showing top 1 row\n",
      "\n"
     ]
    }
   ],
   "source": [
    "# Filter out \"Medical Incident\" call types\n",
    "\n",
    "# Note that filter() and where() methods on the DataFrame are similar. Check relevant documentation for their respective argument types.\n",
    "few_fire_df = (fire_df\n",
    "               .select(\"IncidentNumber\", \"AvailableDtTm\", \"CallType\")\n",
    "               .where(F.col(\"CallType\") != \"Medical Incident\"))\n",
    "few_fire_df.show(1, vertical=True)"
   ]
  },
  {
   "cell_type": "code",
   "execution_count": 13,
   "id": "abcbcf48-c478-4e08-bd39-5ffb8150d64b",
   "metadata": {},
   "outputs": [
    {
     "name": "stdout",
     "output_type": "stream",
     "text": [
      "+-----------------+\n",
      "|DistinctCallTypes|\n",
      "+-----------------+\n",
      "|               30|\n",
      "+-----------------+\n",
      "\n"
     ]
    },
    {
     "data": {
      "text/plain": [
       "30"
      ]
     },
     "execution_count": 13,
     "metadata": {},
     "output_type": "execute_result"
    }
   ],
   "source": [
    "# return number of distinct types of calls using countDistinct()\n",
    "from pyspark.sql.functions import *\n",
    "(fire_df\n",
    "  .select(\"CallType\")\n",
    "  .where(F.col(\"CallType\").isNotNull())\n",
    "  .agg(F.countDistinct(\"CallType\").alias(\"DistinctCallTypes\"))\n",
    "  .show())\n",
    "\n",
    "(fire_df\n",
    "  .select(\"CallType\")\n",
    "  .where(F.col(\"CallType\").isNotNull())\n",
    "  .distinct()\n",
    "  .count())"
   ]
  },
  {
   "cell_type": "code",
   "execution_count": 14,
   "id": "4d4e9e21-a99d-44c0-be44-722e5b89c02c",
   "metadata": {
    "collapsed": true,
    "jupyter": {
     "outputs_hidden": true
    }
   },
   "outputs": [
    {
     "name": "stdout",
     "output_type": "stream",
     "text": [
      "-RECORD 0--------------------------------\n",
      " IncidentNumber | 2003235                \n",
      " AvailableDtTm  | 01/11/2002 01:51:44 AM \n",
      " CallType       | Structure Fire         \n",
      "-RECORD 1--------------------------------\n",
      " IncidentNumber | 2003250                \n",
      " AvailableDtTm  | 01/11/2002 04:16:46 AM \n",
      " CallType       | Vehicle Fire           \n",
      "-RECORD 2--------------------------------\n",
      " IncidentNumber | 2003259                \n",
      " AvailableDtTm  | 01/11/2002 06:01:58 AM \n",
      " CallType       | Alarms                 \n",
      "-RECORD 3--------------------------------\n",
      " IncidentNumber | 2003279                \n",
      " AvailableDtTm  | 01/11/2002 08:03:26 AM \n",
      " CallType       | Structure Fire         \n",
      "-RECORD 4--------------------------------\n",
      " IncidentNumber | 2003301                \n",
      " AvailableDtTm  | 01/11/2002 09:46:44 AM \n",
      " CallType       | Alarms                 \n",
      "only showing top 5 rows\n",
      "\n"
     ]
    }
   ],
   "source": [
    "# Example\n",
    "few_fire_df = (fire_df\n",
    "  .select(\"IncidentNumber\", \"AvailableDtTm\", \"CallType\") \n",
    "  .where(col(\"CallType\") != \"Medical Incident\"))\n",
    "few_fire_df.show(5, truncate=False, vertical=True)"
   ]
  },
  {
   "cell_type": "code",
   "execution_count": 17,
   "id": "1aec85b0-71de-489a-991b-0d582460237d",
   "metadata": {
    "collapsed": true,
    "jupyter": {
     "outputs_hidden": true
    }
   },
   "outputs": [
    {
     "name": "stdout",
     "output_type": "stream",
     "text": [
      "+-----------------------------+\n",
      "|CallType                     |\n",
      "+-----------------------------+\n",
      "|Elevator / Escalator Rescue  |\n",
      "|Aircraft Emergency           |\n",
      "|Alarms                       |\n",
      "|Odor (Strange / Unknown)     |\n",
      "|Citizen Assist / Service Call|\n",
      "|HazMat                       |\n",
      "|Explosion                    |\n",
      "|Oil Spill                    |\n",
      "|Vehicle Fire                 |\n",
      "|Suspicious Package           |\n",
      "+-----------------------------+\n",
      "only showing top 10 rows\n",
      "\n"
     ]
    }
   ],
   "source": [
    "# filter for only distinct non-null CallTypes from all the rows\n",
    "(fire_df\n",
    "  .select(\"CallType\")\n",
    "  .where(col(\"CallType\").isNotNull())\n",
    "  .distinct()\n",
    "  .show(10, False))"
   ]
  },
  {
   "cell_type": "code",
   "execution_count": 16,
   "id": "7553d7e4-32da-46cb-9a6a-ab9948fbf13a",
   "metadata": {
    "collapsed": true,
    "jupyter": {
     "outputs_hidden": true
    }
   },
   "outputs": [
    {
     "name": "stdout",
     "output_type": "stream",
     "text": [
      "+---------------------+\n",
      "|ResponseDelayedinMins|\n",
      "+---------------------+\n",
      "|5.35                 |\n",
      "|6.25                 |\n",
      "|5.2                  |\n",
      "|5.6                  |\n",
      "|7.25                 |\n",
      "+---------------------+\n",
      "only showing top 5 rows\n",
      "\n"
     ]
    }
   ],
   "source": [
    "# Rename column\n",
    "new_fire_df = fire_df.withColumnRenamed(\"Delay\", \"ResponseDelayedinMins\")\n",
    "(new_fire_df\n",
    "  .select(\"ResponseDelayedinMins\")\n",
    "  .where(F.col(\"ResponseDelayedinMins\") > 5)\n",
    "  .show(5, False))"
   ]
  },
  {
   "cell_type": "code",
   "execution_count": 24,
   "id": "5667b963-158d-4d70-9c39-7b552a9a9e6d",
   "metadata": {
    "collapsed": true,
    "jupyter": {
     "outputs_hidden": true
    }
   },
   "outputs": [
    {
     "name": "stdout",
     "output_type": "stream",
     "text": [
      "+-------------------+-------------------+-------------------+\n",
      "|IncidentDate       |OnWatchDate        |AvailableDtTS      |\n",
      "+-------------------+-------------------+-------------------+\n",
      "|2002-01-11 00:00:00|2002-01-10 00:00:00|2002-01-11 01:51:44|\n",
      "|2002-01-11 00:00:00|2002-01-10 00:00:00|2002-01-11 03:01:18|\n",
      "|2002-01-11 00:00:00|2002-01-10 00:00:00|2002-01-11 02:39:50|\n",
      "|2002-01-11 00:00:00|2002-01-10 00:00:00|2002-01-11 04:16:46|\n",
      "|2002-01-11 00:00:00|2002-01-10 00:00:00|2002-01-11 06:01:58|\n",
      "+-------------------+-------------------+-------------------+\n",
      "only showing top 5 rows\n",
      "\n"
     ]
    }
   ],
   "source": [
    "# date operations\n",
    "fire_ts_df = (new_fire_df\n",
    "  .withColumn(\"IncidentDate\", F.to_timestamp(F.col(\"CallDate\"), \"MM/dd/yyyy\"))\n",
    "  .drop(\"CallDate\") \n",
    "  .withColumn(\"OnWatchDate\", F.to_timestamp(F.col(\"WatchDate\"), \"MM/dd/yyyy\"))\n",
    "  .drop(\"WatchDate\") \n",
    "  .withColumn(\"AvailableDtTS\", F.to_timestamp(F.col(\"AvailableDtTm\"), \n",
    "  \"MM/dd/yyyy hh:mm:ss a\"))\n",
    "  .drop(\"AvailableDtTm\")\n",
    "  # .show(5, truncate=False, vertical=True)\n",
    "             )\n",
    "# Select the converted columns\n",
    "(fire_ts_df\n",
    "  .select(\"IncidentDate\", \"OnWatchDate\", \"AvailableDtTS\")\n",
    "  .show(5, False))"
   ]
  },
  {
   "cell_type": "code",
   "execution_count": 25,
   "id": "9ffd95f7-094a-4f26-973a-fc278513e7e0",
   "metadata": {},
   "outputs": [
    {
     "name": "stdout",
     "output_type": "stream",
     "text": [
      "+-------------------------------+------+\n",
      "|CallType                       |count |\n",
      "+-------------------------------+------+\n",
      "|Medical Incident               |113794|\n",
      "|Structure Fire                 |23319 |\n",
      "|Alarms                         |19406 |\n",
      "|Traffic Collision              |7013  |\n",
      "|Citizen Assist / Service Call  |2524  |\n",
      "|Other                          |2166  |\n",
      "|Outside Fire                   |2094  |\n",
      "|Vehicle Fire                   |854   |\n",
      "|Gas Leak (Natural and LP Gases)|764   |\n",
      "|Water Rescue                   |755   |\n",
      "+-------------------------------+------+\n",
      "only showing top 10 rows\n",
      "\n"
     ]
    }
   ],
   "source": [
    "# what were the most common types of fire calls?\n",
    "(fire_ts_df\n",
    "  .select(\"CallType\")\n",
    "  .where(F.col(\"CallType\").isNotNull())\n",
    "  .groupBy(\"CallType\")\n",
    "  .count()\n",
    "  .orderBy(\"count\", ascending=False)\n",
    "  .show(n=10, truncate=False))"
   ]
  },
  {
   "cell_type": "code",
   "execution_count": 26,
   "id": "c5fd2027-0136-4c02-9d75-3c1ddb37d63d",
   "metadata": {},
   "outputs": [
    {
     "name": "stdout",
     "output_type": "stream",
     "text": [
      "+--------------+--------------------------+--------------------------+--------------------------+\n",
      "|sum(NumAlarms)|avg(ResponseDelayedinMins)|min(ResponseDelayedinMins)|max(ResponseDelayedinMins)|\n",
      "+--------------+--------------------------+--------------------------+--------------------------+\n",
      "|        176170|         3.892364154521585|               0.016666668|                   1844.55|\n",
      "+--------------+--------------------------+--------------------------+--------------------------+\n",
      "\n"
     ]
    }
   ],
   "source": [
    "# min,max, avg\n",
    "(fire_ts_df\n",
    "  .select(F.sum(\"NumAlarms\"), F.avg(\"ResponseDelayedinMins\"),\n",
    "    F.min(\"ResponseDelayedinMins\"), F.max(\"ResponseDelayedinMins\"))\n",
    "  .show())"
   ]
  },
  {
   "cell_type": "code",
   "execution_count": 37,
   "id": "dc4efa05-012d-4091-9ff4-0c3b7c0cd735",
   "metadata": {},
   "outputs": [
    {
     "data": {
      "text/plain": [
       "30"
      ]
     },
     "execution_count": 37,
     "metadata": {},
     "output_type": "execute_result"
    }
   ],
   "source": [
    "# Q-1) How many distinct types of calls were made to the Fire Department?\n",
    "# To be sure, let's not count \"null\" strings in that column.\n",
    "(fire_df\n",
    "  .select(\"CallType\")\n",
    "  .where(F.col(\"CallType\").isNotNull())\n",
    "  .distinct()\n",
    "  .count())\n",
    "# few_fire_df.show(20, vertical=False)"
   ]
  },
  {
   "cell_type": "code",
   "execution_count": 43,
   "id": "568c1bde-917c-4451-85b0-9dd680f4dc3d",
   "metadata": {},
   "outputs": [
    {
     "data": {
      "text/plain": [
       "30"
      ]
     },
     "execution_count": 43,
     "metadata": {},
     "output_type": "execute_result"
    }
   ],
   "source": [
    "# Q-2) What are distinct types of calls were made to the Fire Department?\n",
    "# These are all the distinct type of call to the SF Fire Department\n",
    "(fire_df\n",
    "  .select(\"CallType\")\n",
    "  .where(\n",
    "      (F.col(\"CallType\").isNotNull())\n",
    "     & (F.col(\"City\") == \"SF\")\n",
    "  )\n",
    "  .distinct()\n",
    "  .count())"
   ]
  },
  {
   "cell_type": "code",
   "execution_count": 53,
   "id": "a03e7685-fcf7-49be-a559-82aeea6d7d80",
   "metadata": {},
   "outputs": [
    {
     "data": {
      "text/plain": [
       "27508"
      ]
     },
     "execution_count": 53,
     "metadata": {},
     "output_type": "execute_result"
    }
   ],
   "source": [
    "# Q-3) Find out all response or delayed times greater than 5 mins?\n",
    "# Rename the column Delay - > ReponseDelayedinMins\n",
    "# Returns a new DataFrame\n",
    "# Find out all calls where the response time to the fire site was delayed for more than 5 mins\n",
    "# new_fire_df = fire_df.withColumnRenamed(\"Delay\", \"ResponseDelayedinMins\")\n",
    "(fire_df\n",
    "  .withColumn(\"OnWatchDate\", F.col(\"Delay\"))\n",
    "  .select(\"Delay\")\n",
    "  .where(F.col(\"Delay\") > 5)\n",
    "  .count()\n",
    ")"
   ]
  },
  {
   "cell_type": "code",
   "execution_count": 54,
   "id": "d7e43dc1-80dc-437a-a7ff-03999ee4013e",
   "metadata": {},
   "outputs": [
    {
     "name": "stdout",
     "output_type": "stream",
     "text": [
      "+-------+----------------+-----+\n",
      "|Zipcode|CallType        |count|\n",
      "+-------+----------------+-----+\n",
      "|94102  |Medical Incident|16130|\n",
      "|94103  |Medical Incident|14775|\n",
      "|94110  |Medical Incident|9995 |\n",
      "|94109  |Medical Incident|9479 |\n",
      "|94124  |Medical Incident|5885 |\n",
      "|94112  |Medical Incident|5630 |\n",
      "|94115  |Medical Incident|4785 |\n",
      "|94122  |Medical Incident|4323 |\n",
      "|94107  |Medical Incident|4284 |\n",
      "|94133  |Medical Incident|3977 |\n",
      "+-------+----------------+-----+\n",
      "only showing top 10 rows\n",
      "\n"
     ]
    }
   ],
   "source": [
    "# Q-4a) What zip codes accounted for most common calls?\n",
    "# Let's investigate what zip codes in San Francisco accounted for most fire calls and what type where they.\n",
    "# Filter out by CallType\n",
    "# Group them by CallType and Zip code\n",
    "# Count them and display them in descending order\n",
    "# It seems like the most common calls were all related to Medical Incident, and the two zip codes are 94102 and 94103.\n",
    "(fire_ts_df\n",
    "  .select(\"Zipcode\", \"CallType\")\n",
    "  .where(F.col(\"Zipcode\").isNotNull())\n",
    "  .where(F.col(\"CallType\").isNotNull())\n",
    "  .groupBy(\"Zipcode\", \"CallType\")\n",
    "  .count()\n",
    "  .orderBy(\"count\", ascending=False)\n",
    "  .show(n=10, truncate=False))"
   ]
  },
  {
   "cell_type": "code",
   "execution_count": 57,
   "id": "6e86c1e3-9f86-4556-8b64-f365db36b887",
   "metadata": {},
   "outputs": [
    {
     "data": {
      "text/plain": [
       "42737"
      ]
     },
     "execution_count": 57,
     "metadata": {},
     "output_type": "execute_result"
    }
   ],
   "source": [
    "# Q-4b) What San Francisco neighborhoods are in the zip codes 94102 and 94103\n",
    "# Let's find out the neighborhoods associated with these two zip codes. In all likelihood, these are some of the contested neighborhood with high reported crimes.\n",
    "(fire_ts_df\n",
    "  .select(\"Neighborhood\", \"Zipcode\")\n",
    "  .where(F.col(\"Zipcode\").isNotNull())\n",
    "  .where((F.col(\"Zipcode\")== 94102) | (F.col(\"Zipcode\")== 94103))\n",
    "  .count()\n",
    "  # .show(n=10, truncate=False)\n",
    ")"
   ]
  },
  {
   "cell_type": "code",
   "execution_count": 59,
   "id": "28cb4e9b-1366-4c9c-a60e-84b4e46da91e",
   "metadata": {},
   "outputs": [
    {
     "name": "stdout",
     "output_type": "stream",
     "text": [
      "+--------------+-----------------+-----------+----------+\n",
      "|sum(NumAlarms)|       avg(Delay)| min(Delay)|max(Delay)|\n",
      "+--------------+-----------------+-----------+----------+\n",
      "|        176170|3.892364154521585|0.016666668|   1844.55|\n",
      "+--------------+-----------------+-----------+----------+\n",
      "\n"
     ]
    }
   ],
   "source": [
    "# Q-5) What was the sum of all calls, average, min and max of the response times for calls?\n",
    "# Let's use the built-in Spark SQL functions to compute the sum, avg, min, and max of few columns:\n",
    "# Number of Total Alarms\n",
    "# What were the min and max the delay in response time before the Fire Dept arrived at the scene of the call\n",
    "(fire_df\n",
    "  .select(F.sum(\"NumAlarms\"), F.avg(\"Delay\"),\n",
    "    F.min(\"Delay\"), F.max(\"Delay\"))\n",
    "  .show())"
   ]
  },
  {
   "cell_type": "code",
   "execution_count": 67,
   "id": "a794239b-e68b-4c44-8a94-89e49467af75",
   "metadata": {},
   "outputs": [
    {
     "name": "stdout",
     "output_type": "stream",
     "text": [
      "-RECORD 0------------------------\n",
      " weekofyear(IncidentDate) | 22   \n",
      " year(IncidentDate)       | 2018 \n",
      " count                    | 259  \n",
      "-RECORD 1------------------------\n",
      " weekofyear(IncidentDate) | 40   \n",
      " year(IncidentDate)       | 2018 \n",
      " count                    | 255  \n",
      "-RECORD 2------------------------\n",
      " weekofyear(IncidentDate) | 43   \n",
      " year(IncidentDate)       | 2018 \n",
      " count                    | 250  \n",
      "-RECORD 3------------------------\n",
      " weekofyear(IncidentDate) | 25   \n",
      " year(IncidentDate)       | 2018 \n",
      " count                    | 249  \n",
      "-RECORD 4------------------------\n",
      " weekofyear(IncidentDate) | 1    \n",
      " year(IncidentDate)       | 2018 \n",
      " count                    | 246  \n",
      "only showing top 5 rows\n",
      "\n"
     ]
    }
   ],
   "source": [
    "# ** Q-6b) What week of the year in 2018 had the most fire calls?**\n",
    "# Note: Week 1 is the New Years' week and week 25 is the July 4 the week. Loads of fireworks, so it makes sense the higher number of calls.\n",
    "# date operations\n",
    "fire_ts_df = (new_fire_df\n",
    "  .withColumn(\"IncidentDate\", F.to_timestamp(F.col(\"CallDate\"), \"MM/dd/yyyy\"))\n",
    "  .drop(\"CallDate\") \n",
    "  .withColumn(\"OnWatchDate\", F.to_timestamp(F.col(\"WatchDate\"), \"MM/dd/yyyy\"))\n",
    "  .drop(\"WatchDate\") \n",
    "  .withColumn(\"AvailableDtTS\", F.to_timestamp(F.col(\"AvailableDtTm\"), \n",
    "  \"MM/dd/yyyy hh:mm:ss a\"))\n",
    "  .drop(\"AvailableDtTm\")\n",
    "  # .show(5, truncate=False, vertical=True)\n",
    "             )\n",
    "(fire_ts_df\n",
    " .select(F.weekofyear(\"IncidentDate\"), F.year(\"IncidentDate\"))\n",
    " .where(F.year(\"IncidentDate\") == 2018)\n",
    " .groupBy(\"weekofyear(IncidentDate)\", \"year(IncidentDate)\")\n",
    " .count()\n",
    " .orderBy(\"count\", ascending=False)\n",
    " .show(5, truncate=False, vertical=True)\n",
    ")"
   ]
  },
  {
   "cell_type": "code",
   "execution_count": 71,
   "id": "39e761b5-2106-4d8b-bbc7-71f386e58452",
   "metadata": {},
   "outputs": [
    {
     "ename": "AnalysisException",
     "evalue": "[MISSING_GROUP_BY] The query does not include a GROUP BY clause. Add GROUP BY or turn it into the window functions using OVER clauses.;\nAggregate [year(cast(IncidentDate#36079 as date)) AS year(IncidentDate)#36111, City#9, Neighborhood#24, avg(Delay#27) AS avg(Delay)#36110]\n+- Project [CallNumber#0, UnitID#1, IncidentNumber#2, CallType#3, CallDate#4, WatchDate#5, CallFinalDisposition#6, AvailableDtTm#7, Address#8, City#9, Zipcode#10, Battalion#11, StationArea#12, Box#13, OriginalPriority#14, Priority#15, FinalPriority#16, ALSUnit#17, CallTypeGroup#18, NumAlarms#19, UnitType#20, UnitSequenceInCallDispatch#21, FirePreventionDistrict#22, SupervisorDistrict#23, ... 5 more fields]\n   +- Relation [CallNumber#0,UnitID#1,IncidentNumber#2,CallType#3,CallDate#4,WatchDate#5,CallFinalDisposition#6,AvailableDtTm#7,Address#8,City#9,Zipcode#10,Battalion#11,StationArea#12,Box#13,OriginalPriority#14,Priority#15,FinalPriority#16,ALSUnit#17,CallTypeGroup#18,NumAlarms#19,UnitType#20,UnitSequenceInCallDispatch#21,FirePreventionDistrict#22,SupervisorDistrict#23,... 4 more fields] csv\n",
     "output_type": "error",
     "traceback": [
      "\u001b[0;31m---------------------------------------------------------------------------\u001b[0m",
      "\u001b[0;31mAnalysisException\u001b[0m                         Traceback (most recent call last)",
      "Cell \u001b[0;32mIn[71], line 5\u001b[0m\n\u001b[1;32m      1\u001b[0m \u001b[38;5;66;03m# ** Q-7) What neighborhoods in San Francisco had the worst response time in 2018?**\u001b[39;00m\n\u001b[1;32m      2\u001b[0m \u001b[38;5;66;03m# It appears that if you living in Presidio Heights, the Fire Dept arrived in less than 3 mins, while Mission Bay took more than 6 mins.\u001b[39;00m\n\u001b[1;32m      3\u001b[0m (\u001b[43mfire_df\u001b[49m\n\u001b[1;32m      4\u001b[0m \u001b[43m \u001b[49m\u001b[38;5;241;43m.\u001b[39;49m\u001b[43mwithColumn\u001b[49m\u001b[43m(\u001b[49m\u001b[38;5;124;43m\"\u001b[39;49m\u001b[38;5;124;43mIncidentDate\u001b[39;49m\u001b[38;5;124;43m\"\u001b[39;49m\u001b[43m,\u001b[49m\u001b[43m \u001b[49m\u001b[43mF\u001b[49m\u001b[38;5;241;43m.\u001b[39;49m\u001b[43mto_timestamp\u001b[49m\u001b[43m(\u001b[49m\u001b[43mF\u001b[49m\u001b[38;5;241;43m.\u001b[39;49m\u001b[43mcol\u001b[49m\u001b[43m(\u001b[49m\u001b[38;5;124;43m\"\u001b[39;49m\u001b[38;5;124;43mCallDate\u001b[39;49m\u001b[38;5;124;43m\"\u001b[39;49m\u001b[43m)\u001b[49m\u001b[43m,\u001b[49m\u001b[43m \u001b[49m\u001b[38;5;124;43m\"\u001b[39;49m\u001b[38;5;124;43mMM/dd/yyyy\u001b[39;49m\u001b[38;5;124;43m\"\u001b[39;49m\u001b[43m)\u001b[49m\u001b[43m)\u001b[49m\n\u001b[0;32m----> 5\u001b[0m \u001b[43m \u001b[49m\u001b[38;5;241;43m.\u001b[39;49m\u001b[43mselect\u001b[49m\u001b[43m(\u001b[49m\u001b[43mF\u001b[49m\u001b[38;5;241;43m.\u001b[39;49m\u001b[43myear\u001b[49m\u001b[43m(\u001b[49m\u001b[38;5;124;43m\"\u001b[39;49m\u001b[38;5;124;43mIncidentDate\u001b[39;49m\u001b[38;5;124;43m\"\u001b[39;49m\u001b[43m)\u001b[49m\u001b[43m,\u001b[49m\u001b[43m \u001b[49m\u001b[38;5;124;43m\"\u001b[39;49m\u001b[38;5;124;43mCity\u001b[39;49m\u001b[38;5;124;43m\"\u001b[39;49m\u001b[43m,\u001b[49m\u001b[43m \u001b[49m\u001b[38;5;124;43m\"\u001b[39;49m\u001b[38;5;124;43mNeighborhood\u001b[39;49m\u001b[38;5;124;43m\"\u001b[39;49m\u001b[43m,\u001b[49m\u001b[43m \u001b[49m\u001b[43mF\u001b[49m\u001b[38;5;241;43m.\u001b[39;49m\u001b[43mavg\u001b[49m\u001b[43m(\u001b[49m\u001b[38;5;124;43m\"\u001b[39;49m\u001b[38;5;124;43mDelay\u001b[39;49m\u001b[38;5;124;43m\"\u001b[39;49m\u001b[43m)\u001b[49m\u001b[43m)\u001b[49m\n\u001b[1;32m      6\u001b[0m  \u001b[38;5;241m.\u001b[39mwhere(F\u001b[38;5;241m.\u001b[39myear(\u001b[38;5;124m\"\u001b[39m\u001b[38;5;124mIncidentDate\u001b[39m\u001b[38;5;124m\"\u001b[39m) \u001b[38;5;241m==\u001b[39m \u001b[38;5;241m2018\u001b[39m)\n\u001b[1;32m      7\u001b[0m  \u001b[38;5;241m.\u001b[39mgroupBy(\u001b[38;5;124m\"\u001b[39m\u001b[38;5;124myear(IncidentDate)\u001b[39m\u001b[38;5;124m\"\u001b[39m, \u001b[38;5;124m\"\u001b[39m\u001b[38;5;124mCity\u001b[39m\u001b[38;5;124m\"\u001b[39m, \u001b[38;5;124m\"\u001b[39m\u001b[38;5;124mNeighborhood\u001b[39m\u001b[38;5;124m\"\u001b[39m)\n\u001b[1;32m      8\u001b[0m  \u001b[38;5;241m.\u001b[39mcount()\n\u001b[1;32m      9\u001b[0m  \u001b[38;5;241m.\u001b[39morderBy(\u001b[38;5;124m\"\u001b[39m\u001b[38;5;124mavg(Delay)\u001b[39m\u001b[38;5;124m\"\u001b[39m, ascending\u001b[38;5;241m=\u001b[39m\u001b[38;5;28;01mFalse\u001b[39;00m)\n\u001b[1;32m     10\u001b[0m  \u001b[38;5;241m.\u001b[39mshow(\u001b[38;5;241m5\u001b[39m, truncate\u001b[38;5;241m=\u001b[39m\u001b[38;5;28;01mFalse\u001b[39;00m, vertical\u001b[38;5;241m=\u001b[39m\u001b[38;5;28;01mTrue\u001b[39;00m)\n\u001b[1;32m     11\u001b[0m )\n",
      "File \u001b[0;32m/usr/local/spark/python/pyspark/sql/dataframe.py:3223\u001b[0m, in \u001b[0;36mDataFrame.select\u001b[0;34m(self, *cols)\u001b[0m\n\u001b[1;32m   3178\u001b[0m \u001b[38;5;28;01mdef\u001b[39;00m \u001b[38;5;21mselect\u001b[39m(\u001b[38;5;28mself\u001b[39m, \u001b[38;5;241m*\u001b[39mcols: \u001b[38;5;124m\"\u001b[39m\u001b[38;5;124mColumnOrName\u001b[39m\u001b[38;5;124m\"\u001b[39m) \u001b[38;5;241m-\u001b[39m\u001b[38;5;241m>\u001b[39m \u001b[38;5;124m\"\u001b[39m\u001b[38;5;124mDataFrame\u001b[39m\u001b[38;5;124m\"\u001b[39m:  \u001b[38;5;66;03m# type: ignore[misc]\u001b[39;00m\n\u001b[1;32m   3179\u001b[0m \u001b[38;5;250m    \u001b[39m\u001b[38;5;124;03m\"\"\"Projects a set of expressions and returns a new :class:`DataFrame`.\u001b[39;00m\n\u001b[1;32m   3180\u001b[0m \n\u001b[1;32m   3181\u001b[0m \u001b[38;5;124;03m    .. versionadded:: 1.3.0\u001b[39;00m\n\u001b[0;32m   (...)\u001b[0m\n\u001b[1;32m   3221\u001b[0m \u001b[38;5;124;03m    +-----+---+\u001b[39;00m\n\u001b[1;32m   3222\u001b[0m \u001b[38;5;124;03m    \"\"\"\u001b[39;00m\n\u001b[0;32m-> 3223\u001b[0m     jdf \u001b[38;5;241m=\u001b[39m \u001b[38;5;28;43mself\u001b[39;49m\u001b[38;5;241;43m.\u001b[39;49m\u001b[43m_jdf\u001b[49m\u001b[38;5;241;43m.\u001b[39;49m\u001b[43mselect\u001b[49m\u001b[43m(\u001b[49m\u001b[38;5;28;43mself\u001b[39;49m\u001b[38;5;241;43m.\u001b[39;49m\u001b[43m_jcols\u001b[49m\u001b[43m(\u001b[49m\u001b[38;5;241;43m*\u001b[39;49m\u001b[43mcols\u001b[49m\u001b[43m)\u001b[49m\u001b[43m)\u001b[49m\n\u001b[1;32m   3224\u001b[0m     \u001b[38;5;28;01mreturn\u001b[39;00m DataFrame(jdf, \u001b[38;5;28mself\u001b[39m\u001b[38;5;241m.\u001b[39msparkSession)\n",
      "File \u001b[0;32m/usr/local/spark/python/lib/py4j-0.10.9.7-src.zip/py4j/java_gateway.py:1322\u001b[0m, in \u001b[0;36mJavaMember.__call__\u001b[0;34m(self, *args)\u001b[0m\n\u001b[1;32m   1316\u001b[0m command \u001b[38;5;241m=\u001b[39m proto\u001b[38;5;241m.\u001b[39mCALL_COMMAND_NAME \u001b[38;5;241m+\u001b[39m\\\n\u001b[1;32m   1317\u001b[0m     \u001b[38;5;28mself\u001b[39m\u001b[38;5;241m.\u001b[39mcommand_header \u001b[38;5;241m+\u001b[39m\\\n\u001b[1;32m   1318\u001b[0m     args_command \u001b[38;5;241m+\u001b[39m\\\n\u001b[1;32m   1319\u001b[0m     proto\u001b[38;5;241m.\u001b[39mEND_COMMAND_PART\n\u001b[1;32m   1321\u001b[0m answer \u001b[38;5;241m=\u001b[39m \u001b[38;5;28mself\u001b[39m\u001b[38;5;241m.\u001b[39mgateway_client\u001b[38;5;241m.\u001b[39msend_command(command)\n\u001b[0;32m-> 1322\u001b[0m return_value \u001b[38;5;241m=\u001b[39m \u001b[43mget_return_value\u001b[49m\u001b[43m(\u001b[49m\n\u001b[1;32m   1323\u001b[0m \u001b[43m    \u001b[49m\u001b[43manswer\u001b[49m\u001b[43m,\u001b[49m\u001b[43m \u001b[49m\u001b[38;5;28;43mself\u001b[39;49m\u001b[38;5;241;43m.\u001b[39;49m\u001b[43mgateway_client\u001b[49m\u001b[43m,\u001b[49m\u001b[43m \u001b[49m\u001b[38;5;28;43mself\u001b[39;49m\u001b[38;5;241;43m.\u001b[39;49m\u001b[43mtarget_id\u001b[49m\u001b[43m,\u001b[49m\u001b[43m \u001b[49m\u001b[38;5;28;43mself\u001b[39;49m\u001b[38;5;241;43m.\u001b[39;49m\u001b[43mname\u001b[49m\u001b[43m)\u001b[49m\n\u001b[1;32m   1325\u001b[0m \u001b[38;5;28;01mfor\u001b[39;00m temp_arg \u001b[38;5;129;01min\u001b[39;00m temp_args:\n\u001b[1;32m   1326\u001b[0m     \u001b[38;5;28;01mif\u001b[39;00m \u001b[38;5;28mhasattr\u001b[39m(temp_arg, \u001b[38;5;124m\"\u001b[39m\u001b[38;5;124m_detach\u001b[39m\u001b[38;5;124m\"\u001b[39m):\n",
      "File \u001b[0;32m/usr/local/spark/python/pyspark/errors/exceptions/captured.py:185\u001b[0m, in \u001b[0;36mcapture_sql_exception.<locals>.deco\u001b[0;34m(*a, **kw)\u001b[0m\n\u001b[1;32m    181\u001b[0m converted \u001b[38;5;241m=\u001b[39m convert_exception(e\u001b[38;5;241m.\u001b[39mjava_exception)\n\u001b[1;32m    182\u001b[0m \u001b[38;5;28;01mif\u001b[39;00m \u001b[38;5;129;01mnot\u001b[39;00m \u001b[38;5;28misinstance\u001b[39m(converted, UnknownException):\n\u001b[1;32m    183\u001b[0m     \u001b[38;5;66;03m# Hide where the exception came from that shows a non-Pythonic\u001b[39;00m\n\u001b[1;32m    184\u001b[0m     \u001b[38;5;66;03m# JVM exception message.\u001b[39;00m\n\u001b[0;32m--> 185\u001b[0m     \u001b[38;5;28;01mraise\u001b[39;00m converted \u001b[38;5;28;01mfrom\u001b[39;00m \u001b[38;5;28;01mNone\u001b[39;00m\n\u001b[1;32m    186\u001b[0m \u001b[38;5;28;01melse\u001b[39;00m:\n\u001b[1;32m    187\u001b[0m     \u001b[38;5;28;01mraise\u001b[39;00m\n",
      "\u001b[0;31mAnalysisException\u001b[0m: [MISSING_GROUP_BY] The query does not include a GROUP BY clause. Add GROUP BY or turn it into the window functions using OVER clauses.;\nAggregate [year(cast(IncidentDate#36079 as date)) AS year(IncidentDate)#36111, City#9, Neighborhood#24, avg(Delay#27) AS avg(Delay)#36110]\n+- Project [CallNumber#0, UnitID#1, IncidentNumber#2, CallType#3, CallDate#4, WatchDate#5, CallFinalDisposition#6, AvailableDtTm#7, Address#8, City#9, Zipcode#10, Battalion#11, StationArea#12, Box#13, OriginalPriority#14, Priority#15, FinalPriority#16, ALSUnit#17, CallTypeGroup#18, NumAlarms#19, UnitType#20, UnitSequenceInCallDispatch#21, FirePreventionDistrict#22, SupervisorDistrict#23, ... 5 more fields]\n   +- Relation [CallNumber#0,UnitID#1,IncidentNumber#2,CallType#3,CallDate#4,WatchDate#5,CallFinalDisposition#6,AvailableDtTm#7,Address#8,City#9,Zipcode#10,Battalion#11,StationArea#12,Box#13,OriginalPriority#14,Priority#15,FinalPriority#16,ALSUnit#17,CallTypeGroup#18,NumAlarms#19,UnitType#20,UnitSequenceInCallDispatch#21,FirePreventionDistrict#22,SupervisorDistrict#23,... 4 more fields] csv\n"
     ]
    }
   ],
   "source": [
    "# Доделать!\n",
    "# ** Q-7) What neighborhoods in San Francisco had the worst response time in 2018?**\n",
    "# It appears that if you living in Presidio Heights, the Fire Dept arrived in less than 3 mins, while Mission Bay took more than 6 mins.\n",
    "(fire_df\n",
    " .withColumn(\"IncidentDate\", F.to_timestamp(F.col(\"CallDate\"), \"MM/dd/yyyy\"))\n",
    " .select(F.year(\"IncidentDate\"), \"City\", \"Neighborhood\", F.avg(\"Delay\"))\n",
    " .where(F.year(\"IncidentDate\") == 2018)\n",
    " .groupBy(\"year(IncidentDate)\", \"City\", \"Neighborhood\")\n",
    " .count()\n",
    " .orderBy(\"avg(Delay)\", ascending=False)\n",
    " .show(5, truncate=False, vertical=True)\n",
    ")"
   ]
  },
  {
   "cell_type": "code",
   "execution_count": null,
   "id": "360600a4-7a7a-4176-8e91-d5099fe48c1f",
   "metadata": {},
   "outputs": [],
   "source": []
  }
 ],
 "metadata": {
  "kernelspec": {
   "display_name": "Python 3 (ipykernel)",
   "language": "python",
   "name": "python3"
  },
  "language_info": {
   "codemirror_mode": {
    "name": "ipython",
    "version": 3
   },
   "file_extension": ".py",
   "mimetype": "text/x-python",
   "name": "python",
   "nbconvert_exporter": "python",
   "pygments_lexer": "ipython3",
   "version": "3.11.6"
  }
 },
 "nbformat": 4,
 "nbformat_minor": 5
}
