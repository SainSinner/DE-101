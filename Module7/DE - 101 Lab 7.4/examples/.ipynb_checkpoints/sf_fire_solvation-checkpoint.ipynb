{
 "cells": [
  {
   "cell_type": "code",
   "execution_count": 1,
   "id": "1672110c-6fc0-409c-9390-fb0c7586bcc1",
   "metadata": {},
   "outputs": [],
   "source": [
    "from pyspark.sql import SparkSession\n",
    "\n",
    "# Создаем сессию Spark\n",
    "spark = SparkSession.builder \\\n",
    "    .appName(\"MyApp\") \\\n",
    "    .getOrCreate()"
   ]
  },
  {
   "cell_type": "code",
   "execution_count": 2,
   "id": "694b2a57-5619-4b73-933d-e83f032a17e4",
   "metadata": {
    "scrolled": true
   },
   "outputs": [
    {
     "name": "stdout",
     "output_type": "stream",
     "text": [
      "root\n",
      " |-- CallNumber: integer (nullable = true)\n",
      " |-- UnitID: string (nullable = true)\n",
      " |-- IncidentNumber: integer (nullable = true)\n",
      " |-- CallType: string (nullable = true)\n",
      " |-- CallDate: string (nullable = true)\n",
      " |-- WatchDate: string (nullable = true)\n",
      " |-- CallFinalDisposition: string (nullable = true)\n",
      " |-- AvailableDtTm: string (nullable = true)\n",
      " |-- Address: string (nullable = true)\n",
      " |-- City: string (nullable = true)\n",
      " |-- Zipcode: integer (nullable = true)\n",
      " |-- Battalion: string (nullable = true)\n",
      " |-- StationArea: string (nullable = true)\n",
      " |-- Box: string (nullable = true)\n",
      " |-- OriginalPriority: string (nullable = true)\n",
      " |-- Priority: string (nullable = true)\n",
      " |-- FinalPriority: integer (nullable = true)\n",
      " |-- ALSUnit: boolean (nullable = true)\n",
      " |-- CallTypeGroup: string (nullable = true)\n",
      " |-- NumAlarms: integer (nullable = true)\n",
      " |-- UnitType: string (nullable = true)\n",
      " |-- UnitSequenceInCallDispatch: integer (nullable = true)\n",
      " |-- FirePreventionDistrict: string (nullable = true)\n",
      " |-- SupervisorDistrict: string (nullable = true)\n",
      " |-- Neighborhood: string (nullable = true)\n",
      " |-- Location: string (nullable = true)\n",
      " |-- RowID: string (nullable = true)\n",
      " |-- Delay: float (nullable = true)\n",
      "\n"
     ]
    }
   ],
   "source": [
    "from pyspark.sql.types import *\n",
    "import pyspark.sql.functions as F\n",
    "\n",
    "# Programmatic way to define a schema \n",
    "fire_schema = StructType([StructField('CallNumber', IntegerType(), True),\n",
    "                     StructField('UnitID', StringType(), True),\n",
    "                     StructField('IncidentNumber', IntegerType(), True),\n",
    "                     StructField('CallType', StringType(), True),                  \n",
    "                     StructField('CallDate', StringType(), True),      \n",
    "                     StructField('WatchDate', StringType(), True),\n",
    "                     StructField('CallFinalDisposition', StringType(), True),\n",
    "                     StructField('AvailableDtTm', StringType(), True),\n",
    "                     StructField('Address', StringType(), True),       \n",
    "                     StructField('City', StringType(), True),       \n",
    "                     StructField('Zipcode', IntegerType(), True),       \n",
    "                     StructField('Battalion', StringType(), True),                 \n",
    "                     StructField('StationArea', StringType(), True),       \n",
    "                     StructField('Box', StringType(), True),       \n",
    "                     StructField('OriginalPriority', StringType(), True),       \n",
    "                     StructField('Priority', StringType(), True),       \n",
    "                     StructField('FinalPriority', IntegerType(), True),       \n",
    "                     StructField('ALSUnit', BooleanType(), True),       \n",
    "                     StructField('CallTypeGroup', StringType(), True),\n",
    "                     StructField('NumAlarms', IntegerType(), True),\n",
    "                     StructField('UnitType', StringType(), True),\n",
    "                     StructField('UnitSequenceInCallDispatch', IntegerType(), True),\n",
    "                     StructField('FirePreventionDistrict', StringType(), True),\n",
    "                     StructField('SupervisorDistrict', StringType(), True),\n",
    "                     StructField('Neighborhood', StringType(), True),\n",
    "                     StructField('Location', StringType(), True),\n",
    "                     StructField('RowID', StringType(), True),\n",
    "                     StructField('Delay', FloatType(), True)])\n",
    "\n",
    "# Use the DataFrameReader interface to read a CSV file\n",
    "sf_fire_file = \"sf-fire-calls.csv\"\n",
    "fire_df = spark.read.csv(sf_fire_file, header=True, schema=fire_schema)\n",
    "\n",
    "# Cache the DataFrame since we will be performing some operations on it.\n",
    "fire_df.cache()\n",
    "fire_df.count()\n",
    "\n",
    "fire_df.printSchema()"
   ]
  },
  {
   "cell_type": "code",
   "execution_count": 3,
   "id": "0898181c-51c0-472c-817c-bfc7cc46c273",
   "metadata": {
    "scrolled": true
   },
   "outputs": [
    {
     "name": "stdout",
     "output_type": "stream",
     "text": [
      "-RECORD 0------------------------------------------\n",
      " CallNumber                 | 20110016             \n",
      " UnitID                     | T13                  \n",
      " IncidentNumber             | 2003235              \n",
      " CallType                   | Structure Fire       \n",
      " CallDate                   | 01/11/2002           \n",
      " WatchDate                  | 01/10/2002           \n",
      " CallFinalDisposition       | Other                \n",
      " AvailableDtTm              | 01/11/2002 01:51:... \n",
      " Address                    | 2000 Block of CAL... \n",
      " City                       | SF                   \n",
      " Zipcode                    | 94109                \n",
      " Battalion                  | B04                  \n",
      " StationArea                | 38                   \n",
      " Box                        | 3362                 \n",
      " OriginalPriority           | 3                    \n",
      " Priority                   | 3                    \n",
      " FinalPriority              | 3                    \n",
      " ALSUnit                    | false                \n",
      " CallTypeGroup              | NULL                 \n",
      " NumAlarms                  | 1                    \n",
      " UnitType                   | TRUCK                \n",
      " UnitSequenceInCallDispatch | 2                    \n",
      " FirePreventionDistrict     | 4                    \n",
      " SupervisorDistrict         | 5                    \n",
      " Neighborhood               | Pacific Heights      \n",
      " Location                   | (37.7895840679362... \n",
      " RowID                      | 020110016-T13        \n",
      " Delay                      | 2.95                 \n",
      "-RECORD 1------------------------------------------\n",
      " CallNumber                 | 20110022             \n",
      " UnitID                     | M17                  \n",
      " IncidentNumber             | 2003241              \n",
      " CallType                   | Medical Incident     \n",
      " CallDate                   | 01/11/2002           \n",
      " WatchDate                  | 01/10/2002           \n",
      " CallFinalDisposition       | Other                \n",
      " AvailableDtTm              | 01/11/2002 03:01:... \n",
      " Address                    | 0 Block of SILVER... \n",
      " City                       | SF                   \n",
      " Zipcode                    | 94124                \n",
      " Battalion                  | B10                  \n",
      " StationArea                | 42                   \n",
      " Box                        | 6495                 \n",
      " OriginalPriority           | 3                    \n",
      " Priority                   | 3                    \n",
      " FinalPriority              | 3                    \n",
      " ALSUnit                    | true                 \n",
      " CallTypeGroup              | NULL                 \n",
      " NumAlarms                  | 1                    \n",
      " UnitType                   | MEDIC                \n",
      " UnitSequenceInCallDispatch | 1                    \n",
      " FirePreventionDistrict     | 10                   \n",
      " SupervisorDistrict         | 10                   \n",
      " Neighborhood               | Bayview Hunters P... \n",
      " Location                   | (37.7337623673897... \n",
      " RowID                      | 020110022-M17        \n",
      " Delay                      | 4.7                  \n",
      "-RECORD 2------------------------------------------\n",
      " CallNumber                 | 20110023             \n",
      " UnitID                     | M41                  \n",
      " IncidentNumber             | 2003242              \n",
      " CallType                   | Medical Incident     \n",
      " CallDate                   | 01/11/2002           \n",
      " WatchDate                  | 01/10/2002           \n",
      " CallFinalDisposition       | Other                \n",
      " AvailableDtTm              | 01/11/2002 02:39:... \n",
      " Address                    | MARKET ST/MCALLIS... \n",
      " City                       | SF                   \n",
      " Zipcode                    | 94102                \n",
      " Battalion                  | B03                  \n",
      " StationArea                | 01                   \n",
      " Box                        | 1455                 \n",
      " OriginalPriority           | 3                    \n",
      " Priority                   | 3                    \n",
      " FinalPriority              | 3                    \n",
      " ALSUnit                    | true                 \n",
      " CallTypeGroup              | NULL                 \n",
      " NumAlarms                  | 1                    \n",
      " UnitType                   | MEDIC                \n",
      " UnitSequenceInCallDispatch | 2                    \n",
      " FirePreventionDistrict     | 3                    \n",
      " SupervisorDistrict         | 6                    \n",
      " Neighborhood               | Tenderloin           \n",
      " Location                   | (37.7811772186856... \n",
      " RowID                      | 020110023-M41        \n",
      " Delay                      | 2.4333334            \n",
      "-RECORD 3------------------------------------------\n",
      " CallNumber                 | 20110032             \n",
      " UnitID                     | E11                  \n",
      " IncidentNumber             | 2003250              \n",
      " CallType                   | Vehicle Fire         \n",
      " CallDate                   | 01/11/2002           \n",
      " WatchDate                  | 01/10/2002           \n",
      " CallFinalDisposition       | Other                \n",
      " AvailableDtTm              | 01/11/2002 04:16:... \n",
      " Address                    | APPLETON AV/MISSI... \n",
      " City                       | SF                   \n",
      " Zipcode                    | 94110                \n",
      " Battalion                  | B06                  \n",
      " StationArea                | 32                   \n",
      " Box                        | 5626                 \n",
      " OriginalPriority           | 3                    \n",
      " Priority                   | 3                    \n",
      " FinalPriority              | 3                    \n",
      " ALSUnit                    | false                \n",
      " CallTypeGroup              | NULL                 \n",
      " NumAlarms                  | 1                    \n",
      " UnitType                   | ENGINE               \n",
      " UnitSequenceInCallDispatch | 1                    \n",
      " FirePreventionDistrict     | 6                    \n",
      " SupervisorDistrict         | 9                    \n",
      " Neighborhood               | Bernal Heights       \n",
      " Location                   | (37.7388432849018... \n",
      " RowID                      | 020110032-E11        \n",
      " Delay                      | 1.5                  \n",
      "-RECORD 4------------------------------------------\n",
      " CallNumber                 | 20110043             \n",
      " UnitID                     | B04                  \n",
      " IncidentNumber             | 2003259              \n",
      " CallType                   | Alarms               \n",
      " CallDate                   | 01/11/2002           \n",
      " WatchDate                  | 01/10/2002           \n",
      " CallFinalDisposition       | Other                \n",
      " AvailableDtTm              | 01/11/2002 06:01:... \n",
      " Address                    | 1400 Block of SUT... \n",
      " City                       | SF                   \n",
      " Zipcode                    | 94109                \n",
      " Battalion                  | B04                  \n",
      " StationArea                | 03                   \n",
      " Box                        | 3223                 \n",
      " OriginalPriority           | 3                    \n",
      " Priority                   | 3                    \n",
      " FinalPriority              | 3                    \n",
      " ALSUnit                    | false                \n",
      " CallTypeGroup              | NULL                 \n",
      " NumAlarms                  | 1                    \n",
      " UnitType                   | CHIEF                \n",
      " UnitSequenceInCallDispatch | 2                    \n",
      " FirePreventionDistrict     | 4                    \n",
      " SupervisorDistrict         | 2                    \n",
      " Neighborhood               | Western Addition     \n",
      " Location                   | (37.7872890372638... \n",
      " RowID                      | 020110043-B04        \n",
      " Delay                      | 3.4833333            \n",
      "only showing top 5 rows\n",
      "\n"
     ]
    }
   ],
   "source": [
    "#display(fire_df.limit(5))\n",
    "fire_df.show(5, vertical=True)"
   ]
  },
  {
   "cell_type": "code",
   "execution_count": 4,
   "id": "f139f849-5ab7-4d9d-80f2-0dd6097fde44",
   "metadata": {
    "scrolled": true
   },
   "outputs": [
    {
     "name": "stdout",
     "output_type": "stream",
     "text": [
      "-RECORD 0------------------------------\n",
      " IncidentNumber | 2003235              \n",
      " AvailableDtTm  | 01/11/2002 01:51:... \n",
      " CallType       | Structure Fire       \n",
      "only showing top 1 row\n",
      "\n"
     ]
    }
   ],
   "source": [
    "# Filter out \"Medical Incident\" call types\n",
    "\n",
    "# Note that filter() and where() methods on the DataFrame are similar. Check relevant documentation for their respective argument types.\n",
    "few_fire_df = (fire_df\n",
    "               .select(\"IncidentNumber\", \"AvailableDtTm\", \"CallType\")\n",
    "               .where(F.col(\"CallType\") != \"Medical Incident\"))\n",
    "few_fire_df.show(1, vertical=True)"
   ]
  },
  {
   "cell_type": "code",
   "execution_count": 5,
   "id": "abcbcf48-c478-4e08-bd39-5ffb8150d64b",
   "metadata": {},
   "outputs": [
    {
     "name": "stdout",
     "output_type": "stream",
     "text": [
      "+-----------------+\n",
      "|DistinctCallTypes|\n",
      "+-----------------+\n",
      "|               30|\n",
      "+-----------------+\n",
      "\n"
     ]
    },
    {
     "data": {
      "text/plain": [
       "30"
      ]
     },
     "execution_count": 5,
     "metadata": {},
     "output_type": "execute_result"
    }
   ],
   "source": [
    "# return number of distinct types of calls using countDistinct()\n",
    "from pyspark.sql.functions import *\n",
    "(fire_df\n",
    "  .select(\"CallType\")\n",
    "  .where(F.col(\"CallType\").isNotNull())\n",
    "  .agg(F.countDistinct(\"CallType\").alias(\"DistinctCallTypes\"))\n",
    "  .show())\n",
    "\n",
    "(fire_df\n",
    "  .select(\"CallType\")\n",
    "  .where(F.col(\"CallType\").isNotNull())\n",
    "  .distinct()\n",
    "  .count())"
   ]
  },
  {
   "cell_type": "code",
   "execution_count": 6,
   "id": "4d4e9e21-a99d-44c0-be44-722e5b89c02c",
   "metadata": {},
   "outputs": [
    {
     "name": "stdout",
     "output_type": "stream",
     "text": [
      "-RECORD 0--------------------------------\n",
      " IncidentNumber | 2003235                \n",
      " AvailableDtTm  | 01/11/2002 01:51:44 AM \n",
      " CallType       | Structure Fire         \n",
      "-RECORD 1--------------------------------\n",
      " IncidentNumber | 2003250                \n",
      " AvailableDtTm  | 01/11/2002 04:16:46 AM \n",
      " CallType       | Vehicle Fire           \n",
      "-RECORD 2--------------------------------\n",
      " IncidentNumber | 2003259                \n",
      " AvailableDtTm  | 01/11/2002 06:01:58 AM \n",
      " CallType       | Alarms                 \n",
      "-RECORD 3--------------------------------\n",
      " IncidentNumber | 2003279                \n",
      " AvailableDtTm  | 01/11/2002 08:03:26 AM \n",
      " CallType       | Structure Fire         \n",
      "-RECORD 4--------------------------------\n",
      " IncidentNumber | 2003301                \n",
      " AvailableDtTm  | 01/11/2002 09:46:44 AM \n",
      " CallType       | Alarms                 \n",
      "only showing top 5 rows\n",
      "\n"
     ]
    }
   ],
   "source": [
    "# Example\n",
    "few_fire_df = (fire_df\n",
    "  .select(\"IncidentNumber\", \"AvailableDtTm\", \"CallType\") \n",
    "  .where(col(\"CallType\") != \"Medical Incident\"))\n",
    "few_fire_df.show(5, truncate=False, vertical=True)"
   ]
  },
  {
   "cell_type": "code",
   "execution_count": 7,
   "id": "1aec85b0-71de-489a-991b-0d582460237d",
   "metadata": {},
   "outputs": [
    {
     "name": "stdout",
     "output_type": "stream",
     "text": [
      "+-----------------------------+\n",
      "|CallType                     |\n",
      "+-----------------------------+\n",
      "|Elevator / Escalator Rescue  |\n",
      "|Aircraft Emergency           |\n",
      "|Alarms                       |\n",
      "|Odor (Strange / Unknown)     |\n",
      "|Citizen Assist / Service Call|\n",
      "|HazMat                       |\n",
      "|Explosion                    |\n",
      "|Oil Spill                    |\n",
      "|Vehicle Fire                 |\n",
      "|Suspicious Package           |\n",
      "+-----------------------------+\n",
      "only showing top 10 rows\n",
      "\n"
     ]
    }
   ],
   "source": [
    "# filter for only distinct non-null CallTypes from all the rows\n",
    "(fire_df\n",
    "  .select(\"CallType\")\n",
    "  .where(col(\"CallType\").isNotNull())\n",
    "  .distinct()\n",
    "  .show(10, False))"
   ]
  },
  {
   "cell_type": "code",
   "execution_count": 8,
   "id": "7553d7e4-32da-46cb-9a6a-ab9948fbf13a",
   "metadata": {},
   "outputs": [
    {
     "name": "stdout",
     "output_type": "stream",
     "text": [
      "+---------------------+\n",
      "|ResponseDelayedinMins|\n",
      "+---------------------+\n",
      "|5.35                 |\n",
      "|6.25                 |\n",
      "|5.2                  |\n",
      "|5.6                  |\n",
      "|7.25                 |\n",
      "+---------------------+\n",
      "only showing top 5 rows\n",
      "\n"
     ]
    }
   ],
   "source": [
    "# Rename column\n",
    "new_fire_df = fire_df.withColumnRenamed(\"Delay\", \"ResponseDelayedinMins\")\n",
    "(new_fire_df\n",
    "  .select(\"ResponseDelayedinMins\")\n",
    "  .where(F.col(\"ResponseDelayedinMins\") > 5)\n",
    "  .show(5, False))"
   ]
  },
  {
   "cell_type": "code",
   "execution_count": 9,
   "id": "5667b963-158d-4d70-9c39-7b552a9a9e6d",
   "metadata": {},
   "outputs": [
    {
     "name": "stdout",
     "output_type": "stream",
     "text": [
      "+-------------------+-------------------+-------------------+\n",
      "|IncidentDate       |OnWatchDate        |AvailableDtTS      |\n",
      "+-------------------+-------------------+-------------------+\n",
      "|2002-01-11 00:00:00|2002-01-10 00:00:00|2002-01-11 01:51:44|\n",
      "|2002-01-11 00:00:00|2002-01-10 00:00:00|2002-01-11 03:01:18|\n",
      "|2002-01-11 00:00:00|2002-01-10 00:00:00|2002-01-11 02:39:50|\n",
      "|2002-01-11 00:00:00|2002-01-10 00:00:00|2002-01-11 04:16:46|\n",
      "|2002-01-11 00:00:00|2002-01-10 00:00:00|2002-01-11 06:01:58|\n",
      "+-------------------+-------------------+-------------------+\n",
      "only showing top 5 rows\n",
      "\n"
     ]
    }
   ],
   "source": [
    "# date operations\n",
    "fire_ts_df = (new_fire_df\n",
    "  .withColumn(\"IncidentDate\", F.to_timestamp(F.col(\"CallDate\"), \"MM/dd/yyyy\"))\n",
    "  .drop(\"CallDate\") \n",
    "  .withColumn(\"OnWatchDate\", F.to_timestamp(F.col(\"WatchDate\"), \"MM/dd/yyyy\"))\n",
    "  .drop(\"WatchDate\") \n",
    "  .withColumn(\"AvailableDtTS\", F.to_timestamp(F.col(\"AvailableDtTm\"), \n",
    "  \"MM/dd/yyyy hh:mm:ss a\"))\n",
    "  .drop(\"AvailableDtTm\")\n",
    "  # .show(5, truncate=False, vertical=True)\n",
    "             )\n",
    "# Select the converted columns\n",
    "(fire_ts_df\n",
    "  .select(\"IncidentDate\", \"OnWatchDate\", \"AvailableDtTS\")\n",
    "  .show(5, False))"
   ]
  },
  {
   "cell_type": "code",
   "execution_count": 10,
   "id": "9ffd95f7-094a-4f26-973a-fc278513e7e0",
   "metadata": {},
   "outputs": [
    {
     "name": "stdout",
     "output_type": "stream",
     "text": [
      "+-------------------------------+------+\n",
      "|CallType                       |count |\n",
      "+-------------------------------+------+\n",
      "|Medical Incident               |113794|\n",
      "|Structure Fire                 |23319 |\n",
      "|Alarms                         |19406 |\n",
      "|Traffic Collision              |7013  |\n",
      "|Citizen Assist / Service Call  |2524  |\n",
      "|Other                          |2166  |\n",
      "|Outside Fire                   |2094  |\n",
      "|Vehicle Fire                   |854   |\n",
      "|Gas Leak (Natural and LP Gases)|764   |\n",
      "|Water Rescue                   |755   |\n",
      "+-------------------------------+------+\n",
      "only showing top 10 rows\n",
      "\n"
     ]
    }
   ],
   "source": [
    "# what were the most common types of fire calls?\n",
    "(fire_ts_df\n",
    "  .select(\"CallType\")\n",
    "  .where(F.col(\"CallType\").isNotNull())\n",
    "  .groupBy(\"CallType\")\n",
    "  .count()\n",
    "  .orderBy(\"count\", ascending=False)\n",
    "  .show(n=10, truncate=False))"
   ]
  },
  {
   "cell_type": "code",
   "execution_count": 11,
   "id": "c5fd2027-0136-4c02-9d75-3c1ddb37d63d",
   "metadata": {},
   "outputs": [
    {
     "name": "stdout",
     "output_type": "stream",
     "text": [
      "+--------------+--------------------------+--------------------------+--------------------------+\n",
      "|sum(NumAlarms)|avg(ResponseDelayedinMins)|min(ResponseDelayedinMins)|max(ResponseDelayedinMins)|\n",
      "+--------------+--------------------------+--------------------------+--------------------------+\n",
      "|        176170|         3.892364154521585|               0.016666668|                   1844.55|\n",
      "+--------------+--------------------------+--------------------------+--------------------------+\n",
      "\n"
     ]
    }
   ],
   "source": [
    "# min,max, avg\n",
    "(fire_ts_df\n",
    "  .select(F.sum(\"NumAlarms\"), F.avg(\"ResponseDelayedinMins\"),\n",
    "    F.min(\"ResponseDelayedinMins\"), F.max(\"ResponseDelayedinMins\"))\n",
    "  .show())"
   ]
  },
  {
   "cell_type": "code",
   "execution_count": 12,
   "id": "dc4efa05-012d-4091-9ff4-0c3b7c0cd735",
   "metadata": {},
   "outputs": [
    {
     "data": {
      "text/plain": [
       "30"
      ]
     },
     "execution_count": 12,
     "metadata": {},
     "output_type": "execute_result"
    }
   ],
   "source": [
    "# Q-1) How many distinct types of calls were made to the Fire Department?\n",
    "# To be sure, let's not count \"null\" strings in that column.\n",
    "(fire_df\n",
    "  .select(\"CallType\")\n",
    "  .where(F.col(\"CallType\").isNotNull())\n",
    "  .distinct()\n",
    "  .count())\n",
    "# few_fire_df.show(20, vertical=False)"
   ]
  },
  {
   "cell_type": "code",
   "execution_count": 13,
   "id": "568c1bde-917c-4451-85b0-9dd680f4dc3d",
   "metadata": {},
   "outputs": [
    {
     "data": {
      "text/plain": [
       "30"
      ]
     },
     "execution_count": 13,
     "metadata": {},
     "output_type": "execute_result"
    }
   ],
   "source": [
    "# Q-2) What are distinct types of calls were made to the Fire Department?\n",
    "# These are all the distinct type of call to the SF Fire Department\n",
    "(fire_df\n",
    "  .select(\"CallType\")\n",
    "  .where(\n",
    "      (F.col(\"CallType\").isNotNull())\n",
    "     & (F.col(\"City\") == \"SF\")\n",
    "  )\n",
    "  .distinct()\n",
    "  .count())"
   ]
  },
  {
   "cell_type": "code",
   "execution_count": 14,
   "id": "a03e7685-fcf7-49be-a559-82aeea6d7d80",
   "metadata": {},
   "outputs": [
    {
     "data": {
      "text/plain": [
       "27508"
      ]
     },
     "execution_count": 14,
     "metadata": {},
     "output_type": "execute_result"
    }
   ],
   "source": [
    "# Q-3) Find out all response or delayed times greater than 5 mins?\n",
    "# Rename the column Delay - > ReponseDelayedinMins\n",
    "# Returns a new DataFrame\n",
    "# Find out all calls where the response time to the fire site was delayed for more than 5 mins\n",
    "# new_fire_df = fire_df.withColumnRenamed(\"Delay\", \"ResponseDelayedinMins\")\n",
    "(fire_df\n",
    "  .withColumn(\"OnWatchDate\", F.col(\"Delay\"))\n",
    "  .select(\"Delay\")\n",
    "  .where(F.col(\"Delay\") > 5)\n",
    "  .count()\n",
    ")"
   ]
  },
  {
   "cell_type": "code",
   "execution_count": 15,
   "id": "d7e43dc1-80dc-437a-a7ff-03999ee4013e",
   "metadata": {},
   "outputs": [
    {
     "name": "stdout",
     "output_type": "stream",
     "text": [
      "+-------+----------------+-----+\n",
      "|Zipcode|CallType        |count|\n",
      "+-------+----------------+-----+\n",
      "|94102  |Medical Incident|16130|\n",
      "|94103  |Medical Incident|14775|\n",
      "|94110  |Medical Incident|9995 |\n",
      "|94109  |Medical Incident|9479 |\n",
      "|94124  |Medical Incident|5885 |\n",
      "|94112  |Medical Incident|5630 |\n",
      "|94115  |Medical Incident|4785 |\n",
      "|94122  |Medical Incident|4323 |\n",
      "|94107  |Medical Incident|4284 |\n",
      "|94133  |Medical Incident|3977 |\n",
      "+-------+----------------+-----+\n",
      "only showing top 10 rows\n",
      "\n"
     ]
    }
   ],
   "source": [
    "# Q-4a) What zip codes accounted for most common calls?\n",
    "# Let's investigate what zip codes in San Francisco accounted for most fire calls and what type where they.\n",
    "# Filter out by CallType\n",
    "# Group them by CallType and Zip code\n",
    "# Count them and display them in descending order\n",
    "# It seems like the most common calls were all related to Medical Incident, and the two zip codes are 94102 and 94103.\n",
    "(fire_ts_df\n",
    "  .select(\"Zipcode\", \"CallType\")\n",
    "  .where(F.col(\"Zipcode\").isNotNull())\n",
    "  .where(F.col(\"CallType\").isNotNull())\n",
    "  .groupBy(\"Zipcode\", \"CallType\")\n",
    "  .count()\n",
    "  .orderBy(\"count\", ascending=False)\n",
    "  .show(n=10, truncate=False))"
   ]
  },
  {
   "cell_type": "code",
   "execution_count": 16,
   "id": "6e86c1e3-9f86-4556-8b64-f365db36b887",
   "metadata": {},
   "outputs": [
    {
     "data": {
      "text/plain": [
       "42737"
      ]
     },
     "execution_count": 16,
     "metadata": {},
     "output_type": "execute_result"
    }
   ],
   "source": [
    "# Q-4b) What San Francisco neighborhoods are in the zip codes 94102 and 94103\n",
    "# Let's find out the neighborhoods associated with these two zip codes. In all likelihood, these are some of the contested neighborhood with high reported crimes.\n",
    "(fire_ts_df\n",
    "  .select(\"Neighborhood\", \"Zipcode\")\n",
    "  .where(F.col(\"Zipcode\").isNotNull())\n",
    "  .where((F.col(\"Zipcode\")== 94102) | (F.col(\"Zipcode\")== 94103))\n",
    "  .count()\n",
    "  # .show(n=10, truncate=False)\n",
    ")"
   ]
  },
  {
   "cell_type": "code",
   "execution_count": 17,
   "id": "28cb4e9b-1366-4c9c-a60e-84b4e46da91e",
   "metadata": {},
   "outputs": [
    {
     "name": "stdout",
     "output_type": "stream",
     "text": [
      "+--------------+-----------------+-----------+----------+\n",
      "|sum(NumAlarms)|       avg(Delay)| min(Delay)|max(Delay)|\n",
      "+--------------+-----------------+-----------+----------+\n",
      "|        176170|3.892364154521585|0.016666668|   1844.55|\n",
      "+--------------+-----------------+-----------+----------+\n",
      "\n"
     ]
    }
   ],
   "source": [
    "# Q-5) What was the sum of all calls, average, min and max of the response times for calls?\n",
    "# Let's use the built-in Spark SQL functions to compute the sum, avg, min, and max of few columns:\n",
    "# Number of Total Alarms\n",
    "# What were the min and max the delay in response time before the Fire Dept arrived at the scene of the call\n",
    "(fire_df\n",
    "  .select(F.sum(\"NumAlarms\"), F.avg(\"Delay\"),\n",
    "    F.min(\"Delay\"), F.max(\"Delay\"))\n",
    "  .show())"
   ]
  },
  {
   "cell_type": "code",
   "execution_count": 18,
   "id": "a794239b-e68b-4c44-8a94-89e49467af75",
   "metadata": {},
   "outputs": [
    {
     "name": "stdout",
     "output_type": "stream",
     "text": [
      "-RECORD 0------------------------\n",
      " weekofyear(IncidentDate) | 22   \n",
      " year(IncidentDate)       | 2018 \n",
      " count                    | 259  \n",
      "-RECORD 1------------------------\n",
      " weekofyear(IncidentDate) | 40   \n",
      " year(IncidentDate)       | 2018 \n",
      " count                    | 255  \n",
      "-RECORD 2------------------------\n",
      " weekofyear(IncidentDate) | 43   \n",
      " year(IncidentDate)       | 2018 \n",
      " count                    | 250  \n",
      "-RECORD 3------------------------\n",
      " weekofyear(IncidentDate) | 25   \n",
      " year(IncidentDate)       | 2018 \n",
      " count                    | 249  \n",
      "-RECORD 4------------------------\n",
      " weekofyear(IncidentDate) | 1    \n",
      " year(IncidentDate)       | 2018 \n",
      " count                    | 246  \n",
      "only showing top 5 rows\n",
      "\n"
     ]
    }
   ],
   "source": [
    "# ** Q-6b) What week of the year in 2018 had the most fire calls?**\n",
    "# Note: Week 1 is the New Years' week and week 25 is the July 4 the week. Loads of fireworks, so it makes sense the higher number of calls.\n",
    "# date operations\n",
    "fire_ts_df_1 = (new_fire_df\n",
    "  .withColumn(\"IncidentDate\", F.to_timestamp(F.col(\"CallDate\"), \"MM/dd/yyyy\"))\n",
    "  .drop(\"CallDate\") \n",
    "  .withColumn(\"OnWatchDate\", F.to_timestamp(F.col(\"WatchDate\"), \"MM/dd/yyyy\"))\n",
    "  .drop(\"WatchDate\") \n",
    "  .withColumn(\"AvailableDtTS\", F.to_timestamp(F.col(\"AvailableDtTm\"), \n",
    "  \"MM/dd/yyyy hh:mm:ss a\"))\n",
    "  .drop(\"AvailableDtTm\")\n",
    "  # .show(5, truncate=False, vertical=True)\n",
    "             )\n",
    "(fire_ts_df_1\n",
    " .select(F.weekofyear(\"IncidentDate\"), F.year(\"IncidentDate\"))\n",
    " .where(F.year(\"IncidentDate\") == 2018)\n",
    " .groupBy(\"weekofyear(IncidentDate)\", \"year(IncidentDate)\")\n",
    " .count()\n",
    " .orderBy(\"count\", ascending=False)\n",
    " .show(5, truncate=False, vertical=True)\n",
    ")"
   ]
  },
  {
   "cell_type": "code",
   "execution_count": 37,
   "id": "39e761b5-2106-4d8b-bbc7-71f386e58452",
   "metadata": {
    "scrolled": true
   },
   "outputs": [
    {
     "name": "stdout",
     "output_type": "stream",
     "text": [
      "-RECORD 0--------------------------------------\n",
      " City         | San Francisco                  \n",
      " Neighborhood | Treasure Island                \n",
      " avg(Delay)   | 11.320833250880241             \n",
      "-RECORD 1--------------------------------------\n",
      " City         | San Francisco                  \n",
      " Neighborhood | Presidio                       \n",
      " avg(Delay)   | 6.248148073752721              \n",
      "-RECORD 2--------------------------------------\n",
      " City         | San Francisco                  \n",
      " Neighborhood | Chinatown                      \n",
      " avg(Delay)   | 6.158818309742307              \n",
      "-RECORD 3--------------------------------------\n",
      " City         | San Francisco                  \n",
      " Neighborhood | McLaren Park                   \n",
      " avg(Delay)   | 4.74404764175415               \n",
      "-RECORD 4--------------------------------------\n",
      " City         | San Francisco                  \n",
      " Neighborhood | Bayview Hunters Point          \n",
      " avg(Delay)   | 4.629759605458373              \n",
      "-RECORD 5--------------------------------------\n",
      " City         | San Francisco                  \n",
      " Neighborhood | Presidio Heights               \n",
      " avg(Delay)   | 4.594131482319093              \n",
      "-RECORD 6--------------------------------------\n",
      " City         | San Francisco                  \n",
      " Neighborhood | Inner Sunset                   \n",
      " avg(Delay)   | 4.438095217981896              \n",
      "-RECORD 7--------------------------------------\n",
      " City         | San Francisco                  \n",
      " Neighborhood | Inner Richmond                 \n",
      " avg(Delay)   | 4.378439182090381              \n",
      "-RECORD 8--------------------------------------\n",
      " City         | San Francisco                  \n",
      " Neighborhood | Financial District/South Beach \n",
      " avg(Delay)   | 4.340903129994245              \n",
      "-RECORD 9--------------------------------------\n",
      " City         | San Francisco                  \n",
      " Neighborhood | Haight Ashbury                 \n",
      " avg(Delay)   | 4.266428579390049              \n",
      "only showing top 10 rows\n",
      "\n"
     ]
    }
   ],
   "source": [
    "# ** Q-7) What neighborhoods in San Francisco had the worst response time in 2018?**\n",
    "# It appears that if you living in Presidio Heights, the Fire Dept arrived in less than 3 mins, while Mission Bay took more than 6 mins.\n",
    "q_7 = (fire_df\n",
    " .withColumn(\"IncidentDate\", F.to_timestamp(F.col(\"CallDate\"), \"MM/dd/yyyy\"))\n",
    " .select(\"City\", F.year(\"IncidentDate\"), \"Neighborhood\", \"Delay\")\n",
    " .where(\"City = 'San Francisco' AND YEAR(IncidentDate) = 2018\")\n",
    " .groupBy(\"City\", \"Neighborhood\")\n",
    " # .count()\n",
    " # .distinct()\n",
    " .agg(F.avg(\"Delay\"))\n",
    " .orderBy(\"avg(Delay)\", ascending=False)\n",
    " .show(10, truncate=False, vertical=True)\n",
    ")"
   ]
  },
  {
   "cell_type": "code",
   "execution_count": 46,
   "id": "df3b09d7-6695-4fc6-8def-9e4c89ce493f",
   "metadata": {},
   "outputs": [
    {
     "name": "stdout",
     "output_type": "stream",
     "text": [
      "+-------------+--------------------+------------------+\n",
      "|         City|        Neighborhood|        avg(Delay)|\n",
      "+-------------+--------------------+------------------+\n",
      "|San Francisco|     Treasure Island|11.320833250880241|\n",
      "|San Francisco|            Presidio| 6.248148073752721|\n",
      "|San Francisco|           Chinatown| 6.158818309742307|\n",
      "|San Francisco|        McLaren Park|  4.74404764175415|\n",
      "|San Francisco|Bayview Hunters P...| 4.629759605458373|\n",
      "|San Francisco|    Presidio Heights| 4.594131482319093|\n",
      "|San Francisco|        Inner Sunset| 4.438095217981896|\n",
      "|San Francisco|      Inner Richmond| 4.378439182090381|\n",
      "|San Francisco|Financial Distric...| 4.340903129994245|\n",
      "|San Francisco|      Haight Ashbury| 4.266428579390049|\n",
      "|San Francisco|            Seacliff|  4.26111114025116|\n",
      "|San Francisco|  West of Twin Peaks| 4.190952391851516|\n",
      "|San Francisco|        Potrero Hill| 4.185406721094578|\n",
      "|San Francisco|     Pacific Heights| 4.180453730971402|\n",
      "|San Francisco|          Tenderloin| 4.101519513551657|\n",
      "|San Francisco|           Excelsior|3.9363993801317125|\n",
      "|San Francisco|Oceanview/Merced/...| 3.935024153171242|\n",
      "|San Francisco|         North Beach| 3.905286342299457|\n",
      "|San Francisco|    Golden Gate Park|3.9043010629473196|\n",
      "|San Francisco|           Lakeshore|3.8864978932881655|\n",
      "+-------------+--------------------+------------------+\n",
      "only showing top 20 rows\n",
      "\n"
     ]
    }
   ],
   "source": [
    "# ** Q-8a) How can we use Parquet files or SQL table to store data and read it back?**\n",
    "q_8 = (fire_df\n",
    " .withColumn(\"IncidentDate\", F.to_timestamp(F.col(\"CallDate\"), \"MM/dd/yyyy\"))\n",
    " .select(\"City\", F.year(\"IncidentDate\"), \"Neighborhood\", \"Delay\")\n",
    " .where(\"City = 'San Francisco' AND YEAR(IncidentDate) = 2018\")\n",
    " .groupBy(\"City\", \"Neighborhood\")\n",
    " # .count()\n",
    " # .distinct()\n",
    " .agg(F.avg(\"Delay\"))\n",
    " .orderBy(\"avg(Delay)\", ascending=False)\n",
    ")\n",
    "\n",
    "import tempfile\n",
    "with tempfile.TemporaryDirectory(prefix=\"parquet\") as d:\n",
    "    # Write a DataFrame into a Parquet file\n",
    "    q_8.write.parquet(d, mode=\"overwrite\")\n",
    "\n",
    "# ** Q-8c) How can read data from Parquet file?**\n",
    "# Note we don't have to specify the schema here since it's stored as part of the Parquet metadata\n",
    "    # Read the Parquet file as a DataFrame.\n",
    "    q_8_c = spark.read.format(\"parquet\").load(d)\n",
    "    q_8_c.show()"
   ]
  },
  {
   "cell_type": "code",
   "execution_count": null,
   "id": "363ec3b2-ae76-4156-8764-f9f083ea50c6",
   "metadata": {},
   "outputs": [],
   "source": []
  }
 ],
 "metadata": {
  "kernelspec": {
   "display_name": "Python 3 (ipykernel)",
   "language": "python",
   "name": "python3"
  },
  "language_info": {
   "codemirror_mode": {
    "name": "ipython",
    "version": 3
   },
   "file_extension": ".py",
   "mimetype": "text/x-python",
   "name": "python",
   "nbconvert_exporter": "python",
   "pygments_lexer": "ipython3",
   "version": "3.11.6"
  }
 },
 "nbformat": 4,
 "nbformat_minor": 5
}
